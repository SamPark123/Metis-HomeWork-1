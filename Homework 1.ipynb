{
 "cells": [
  {
   "cell_type": "code",
   "execution_count": 27,
   "metadata": {},
   "outputs": [
    {
     "name": "stdout",
     "output_type": "stream",
     "text": [
      "Problem 1: Convert degrees to radians\n",
      "The formula for radians to degrees is \"rad * (180)/pi = degrees\"\n",
      "The formula for degrees to radians is \"degrees * pi/(180) = rad\"\n",
      "rad = 3.1400000000000006\n"
     ]
    }
   ],
   "source": [
    "print('Problem 1: Convert degrees to radians')\n",
    "print('The formula for radians to degrees is \"rad * (180)/pi = degrees\"')\n",
    "print('The formula for degrees to radians is \"degrees * pi/(180) = rad\"')\n",
    "\n",
    "pi, degree = 3.14, 180\n",
    "rad = degree*(pi/180)\n",
    "print('rad =', rad)"
   ]
  },
  {
   "cell_type": "code",
   "execution_count": 18,
   "metadata": {},
   "outputs": [
    {
     "name": "stdout",
     "output_type": "stream",
     "text": [
      "Problem 2: Calculate surface volume and area of a sphere\n",
      "Volume of a Sphere = (4/3)*pi*r**3\n",
      "SA of a Sphere = 4*pi*r**2\n",
      "VoS = 24416.64\n",
      "SaoS = 4069.44\n"
     ]
    }
   ],
   "source": [
    "print('Problem 2: Calculate surface volume and area of a sphere')\n",
    "print('Volume of a Sphere = (4/3)*pi*r**3')\n",
    "print('SA of a Sphere = 4*pi*r**2')\n",
    "\n",
    "pi = 3.14\n",
    "r = 18\n",
    "VoS = (4/3)*pi*r**3\n",
    "SaoS = 4*pi*r**2\n",
    "\n",
    "print(\"VoS =\", VoS)\n",
    "print(\"SaoS =\", SaoS)"
   ]
  },
  {
   "cell_type": "code",
   "execution_count": 33,
   "metadata": {},
   "outputs": [
    {
     "name": "stdout",
     "output_type": "stream",
     "text": [
      "Problem 3: Solve (x + y)(x + y)\n",
      "(x + y)^2 = 36\n"
     ]
    }
   ],
   "source": [
    "print(\"Problem 3: Solve (x + y)(x + y)\")\n",
    "\n",
    "x = 5\n",
    "y =1\n",
    "Solution = (x + y)*(x + y)\n",
    "print(\"(x + y)^2 =\", Solution)"
   ]
  },
  {
   "cell_type": "code",
   "execution_count": 50,
   "metadata": {},
   "outputs": [
    {
     "name": "stdout",
     "output_type": "stream",
     "text": [
      "Problem 4: Create all possible 2-letter strings by using 'a', 'e', 'i', 'o', 'u'\n",
      "There are 10 possible 2-letter strings and they are: ae ai ao au ei eo eu io iu ou\n"
     ]
    }
   ],
   "source": [
    "print(\"Problem 4: Create all possible 2-letter strings by using 'a', 'e', 'i', 'o', 'u'\")\n",
    "one = 'ae'\n",
    "two ='ai'\n",
    "three = 'ao'\n",
    "four = 'au'\n",
    "five = 'ei'\n",
    "six = 'eo'\n",
    "seven = 'eu'\n",
    "eight = 'io'\n",
    "nine = 'iu'\n",
    "ten = 'ou'\n",
    "\n",
    "print('There are 10 possible 2-letter strings and they are:', one, two, three, four, five, six, seven, eight, nine, ten)"
   ]
  },
  {
   "cell_type": "code",
   "execution_count": 62,
   "metadata": {},
   "outputs": [
    {
     "name": "stdout",
     "output_type": "stream",
     "text": [
      "Problem 5: Test whether a number is within 100 of 1000 or 2000\n",
      "False 2200 is not within 100 of 1000 or 2000\n",
      "True 900 is within 100 of 1000 but not 2000\n",
      "False 800 is not within 100 of 1000 or 2000\n"
     ]
    }
   ],
   "source": [
    "print(\"Problem 5: Test whether a number is within 100 of 1000 or 2000\")\n",
    "\n",
    "x = 2200\n",
    "Test_2200 = (900 <= x <= 1100) or (1900 <= x <= 2100)\n",
    "print(Test_2200, x, 'is not within 100 of 1000 or 2000')\n",
    "\n",
    "y = 900\n",
    "Test_900 = (900 <= y <= 1100) or (1900 <= y <= 2100)\n",
    "print(Test_900, y, 'is within 100 of 1000 but not 2000')\n",
    "\n",
    "z = 800\n",
    "Test_800 = (900 <= z <= 1100) or (1900 <= z <= 2100)\n",
    "print(Test_800, z, 'is not within 100 of 1000 or 2000')"
   ]
  },
  {
   "cell_type": "code",
   "execution_count": null,
   "metadata": {},
   "outputs": [],
   "source": []
  }
 ],
 "metadata": {
  "kernelspec": {
   "display_name": "Python 3",
   "language": "python",
   "name": "python3"
  },
  "language_info": {
   "codemirror_mode": {
    "name": "ipython",
    "version": 3
   },
   "file_extension": ".py",
   "mimetype": "text/x-python",
   "name": "python",
   "nbconvert_exporter": "python",
   "pygments_lexer": "ipython3",
   "version": "3.7.1"
  }
 },
 "nbformat": 4,
 "nbformat_minor": 2
}
